{
 "cells": [
  {
   "cell_type": "code",
   "execution_count": 1,
   "metadata": {},
   "outputs": [],
   "source": [
    "from pyspark.sql import SparkSession\n",
    "from pyspark.ml.recommendation import ALS\n",
    "from pyspark.sql.functions import lit"
   ]
  },
  {
   "cell_type": "code",
   "execution_count": 2,
   "metadata": {},
   "outputs": [
    {
     "name": "stderr",
     "output_type": "stream",
     "text": [
      "24/05/24 20:35:46 WARN Utils: Your hostname, trnmah-IdeaPad-Gaming-3-15ACH6 resolves to a loopback address: 127.0.1.1; using 192.168.0.7 instead (on interface wlo1)\n",
      "24/05/24 20:35:46 WARN Utils: Set SPARK_LOCAL_IP if you need to bind to another address\n",
      "Setting default log level to \"WARN\".\n",
      "To adjust logging level use sc.setLogLevel(newLevel). For SparkR, use setLogLevel(newLevel).\n",
      "24/05/24 20:35:47 WARN NativeCodeLoader: Unable to load native-hadoop library for your platform... using builtin-java classes where applicable\n"
     ]
    }
   ],
   "source": [
    "\n",
    "spark = SparkSession.builder \\\n",
    "\t.appName(\"RSys\") \\\n",
    "\t.config(\"spark.executor.memory\", \"4g\") \\\n",
    "    .config(\"spark.executor.cores\", \"4\") \\\n",
    "\t.getOrCreate()"
   ]
  },
  {
   "cell_type": "code",
   "execution_count": 3,
   "metadata": {},
   "outputs": [],
   "source": [
    "df = spark.read.format(\"csv\").option(\"delimiter\", \"\\t\").load(\"../moviedata/ml-100k/ua.base\")"
   ]
  },
  {
   "cell_type": "code",
   "execution_count": 4,
   "metadata": {},
   "outputs": [],
   "source": [
    "df = df.drop(\"_c3\")"
   ]
  },
  {
   "cell_type": "code",
   "execution_count": 5,
   "metadata": {},
   "outputs": [
    {
     "data": {
      "text/plain": [
       "[Row(_c0='1', _c1='1', _c2='5'),\n",
       " Row(_c0='1', _c1='2', _c2='3'),\n",
       " Row(_c0='1', _c1='3', _c2='4'),\n",
       " Row(_c0='1', _c1='4', _c2='3'),\n",
       " Row(_c0='1', _c1='5', _c2='3')]"
      ]
     },
     "execution_count": 5,
     "metadata": {},
     "output_type": "execute_result"
    }
   ],
   "source": [
    "df.head(5)"
   ]
  },
  {
   "cell_type": "code",
   "execution_count": 6,
   "metadata": {},
   "outputs": [],
   "source": [
    "col_names = [\"user_id\", \"item_id\", \"rating\"]"
   ]
  },
  {
   "cell_type": "code",
   "execution_count": 7,
   "metadata": {},
   "outputs": [],
   "source": [
    "for i, col_name in enumerate(col_names):\n",
    "\tdf = df.withColumnRenamed(\"_c\" + str(col_names.index(col_name)), col_name) #rename columns\n",
    "\tdf = df.withColumn(col_name, df[col_name].cast(\"int\")) #cast columns to integer"
   ]
  },
  {
   "cell_type": "code",
   "execution_count": 8,
   "metadata": {},
   "outputs": [
    {
     "data": {
      "text/plain": [
       "StructType([StructField('user_id', IntegerType(), True), StructField('item_id', IntegerType(), True), StructField('rating', IntegerType(), True)])"
      ]
     },
     "execution_count": 8,
     "metadata": {},
     "output_type": "execute_result"
    }
   ],
   "source": [
    "df.schema"
   ]
  },
  {
   "cell_type": "code",
   "execution_count": 9,
   "metadata": {},
   "outputs": [
    {
     "data": {
      "text/plain": [
       "[Row(user_id=1, item_id=1, rating=5),\n",
       " Row(user_id=1, item_id=2, rating=3),\n",
       " Row(user_id=1, item_id=3, rating=4),\n",
       " Row(user_id=1, item_id=4, rating=3),\n",
       " Row(user_id=1, item_id=5, rating=3)]"
      ]
     },
     "execution_count": 9,
     "metadata": {},
     "output_type": "execute_result"
    }
   ],
   "source": [
    "df.head(5)"
   ]
  },
  {
   "cell_type": "code",
   "execution_count": 10,
   "metadata": {},
   "outputs": [],
   "source": [
    "als = ALS(maxIter=5, regParam=0.01, userCol=\"user_id\", itemCol=\"item_id\", ratingCol=\"rating\", coldStartStrategy=\"drop\")"
   ]
  },
  {
   "cell_type": "code",
   "execution_count": 11,
   "metadata": {},
   "outputs": [],
   "source": [
    "model = als.fit(df)"
   ]
  },
  {
   "cell_type": "code",
   "execution_count": 12,
   "metadata": {},
   "outputs": [],
   "source": [
    "\n",
    "# Get all unique user_ids and item_ids\n",
    "unique_user_ids = df.select(\"user_id\").distinct()\n",
    "unique_item_ids = df.select(\"item_id\").distinct()\n"
   ]
  },
  {
   "cell_type": "code",
   "execution_count": 13,
   "metadata": {},
   "outputs": [
    {
     "data": {
      "text/plain": [
       "[Row(item_id=148),\n",
       " Row(item_id=471),\n",
       " Row(item_id=496),\n",
       " Row(item_id=463),\n",
       " Row(item_id=833)]"
      ]
     },
     "execution_count": 13,
     "metadata": {},
     "output_type": "execute_result"
    }
   ],
   "source": [
    "unique_item_ids.head(5)"
   ]
  },
  {
   "cell_type": "code",
   "execution_count": 14,
   "metadata": {},
   "outputs": [
    {
     "data": {
      "text/plain": [
       "[Row(user_id=148),\n",
       " Row(user_id=463),\n",
       " Row(user_id=471),\n",
       " Row(user_id=496),\n",
       " Row(user_id=833)]"
      ]
     },
     "execution_count": 14,
     "metadata": {},
     "output_type": "execute_result"
    }
   ],
   "source": [
    "unique_user_ids.head(5)"
   ]
  },
  {
   "cell_type": "code",
   "execution_count": 15,
   "metadata": {},
   "outputs": [],
   "source": [
    "# Create a dataframe of all user_id and item_id pairs\n",
    "all_pairs = unique_user_ids.crossJoin(unique_item_ids)\n",
    "# Remove pairs that are present in the original dataframe\n",
    "missing_pairs = all_pairs.join(df, on=[\"user_id\", \"item_id\"], how=\"left_anti\")\n",
    "\n",
    "\n",
    "\n"
   ]
  },
  {
   "cell_type": "code",
   "execution_count": 16,
   "metadata": {},
   "outputs": [
    {
     "data": {
      "text/plain": [
       "1584240"
      ]
     },
     "execution_count": 16,
     "metadata": {},
     "output_type": "execute_result"
    }
   ],
   "source": [
    "all_pairs.count()"
   ]
  },
  {
   "cell_type": "code",
   "execution_count": 17,
   "metadata": {},
   "outputs": [
    {
     "data": {
      "text/plain": [
       "[Row(user_id=148, item_id=148),\n",
       " Row(user_id=463, item_id=148),\n",
       " Row(user_id=471, item_id=148),\n",
       " Row(user_id=496, item_id=148),\n",
       " Row(user_id=833, item_id=148)]"
      ]
     },
     "execution_count": 17,
     "metadata": {},
     "output_type": "execute_result"
    }
   ],
   "source": [
    "missing_pairs.head(5)"
   ]
  },
  {
   "cell_type": "code",
   "execution_count": 39,
   "metadata": {},
   "outputs": [],
   "source": [
    "# Add a dummy column for rating\n",
    "# missing_pairs = missing_pairs.withColumn(\"rating\", lit(0))"
   ]
  },
  {
   "cell_type": "code",
   "execution_count": 40,
   "metadata": {},
   "outputs": [
    {
     "data": {
      "text/plain": [
       "[Row(user_id=148, item_id=148, rating=0),\n",
       " Row(user_id=463, item_id=148, rating=0),\n",
       " Row(user_id=471, item_id=148, rating=0),\n",
       " Row(user_id=496, item_id=148, rating=0),\n",
       " Row(user_id=833, item_id=148, rating=0)]"
      ]
     },
     "execution_count": 40,
     "metadata": {},
     "output_type": "execute_result"
    }
   ],
   "source": [
    "missing_pairs.head(5)"
   ]
  },
  {
   "cell_type": "code",
   "execution_count": 62,
   "metadata": {},
   "outputs": [],
   "source": [
    "# predict the ratings for the missing pairs\n",
    "predictions = model.transform(missing_pairs)\n",
    "predictions.head(5)"
   ]
  },
  {
   "cell_type": "code",
   "execution_count": 47,
   "metadata": {},
   "outputs": [
    {
     "data": {
      "text/plain": [
       "[Row(user_id=148, item_id=148, prediction=2.535693645477295),\n",
       " Row(user_id=463, item_id=148, prediction=2.374476671218872),\n",
       " Row(user_id=471, item_id=148, prediction=5.163250923156738),\n",
       " Row(user_id=496, item_id=148, prediction=2.6346185207366943),\n",
       " Row(user_id=833, item_id=148, prediction=1.1117370128631592)]"
      ]
     },
     "execution_count": 47,
     "metadata": {},
     "output_type": "execute_result"
    }
   ],
   "source": [
    "predictions.head(5)"
   ]
  },
  {
   "cell_type": "code",
   "execution_count": 53,
   "metadata": {},
   "outputs": [
    {
     "data": {
      "text/plain": [
       "1493670"
      ]
     },
     "execution_count": 53,
     "metadata": {},
     "output_type": "execute_result"
    }
   ],
   "source": [
    "missing_pairs.count()"
   ]
  },
  {
   "cell_type": "code",
   "execution_count": 61,
   "metadata": {},
   "outputs": [
    {
     "name": "stdout",
     "output_type": "stream",
     "text": [
      "+-------+-------+----------+\n",
      "|user_id|item_id|prediction|\n",
      "+-------+-------+----------+\n",
      "|      1|    471| 3.4238014|\n",
      "|      1|    496|   3.70701|\n",
      "|      1|    463| 3.7824821|\n",
      "|      1|    833|  4.629636|\n",
      "|      1|   1088| 2.4879954|\n",
      "|      1|   1238| 3.0842245|\n",
      "|      1|   1342| 1.0175483|\n",
      "|      1|   1580| 0.7497052|\n",
      "|      1|   1591| 1.2021633|\n",
      "|      1|   1645| 5.1979885|\n",
      "|      1|    392| 3.1565173|\n",
      "|      1|    540| 2.7254908|\n",
      "|      1|    623| 1.8366802|\n",
      "|      1|    737| 3.6124377|\n",
      "|      1|    858| 0.9244086|\n",
      "|      1|    897| 1.0481304|\n",
      "|      1|   1084| 5.5868597|\n",
      "|      1|   1025| 2.6102464|\n",
      "|      1|   1127|  3.204022|\n",
      "|      1|   1395|  4.680956|\n",
      "+-------+-------+----------+\n",
      "only showing top 20 rows\n",
      "\n"
     ]
    }
   ],
   "source": [
    "predictions.select('*').filter('user_id = 1').show()"
   ]
  },
  {
   "cell_type": "code",
   "execution_count": 51,
   "metadata": {},
   "outputs": [
    {
     "data": {
      "text/plain": [
       "90570"
      ]
     },
     "execution_count": 51,
     "metadata": {},
     "output_type": "execute_result"
    }
   ],
   "source": [
    "df.count()"
   ]
  },
  {
   "cell_type": "code",
   "execution_count": null,
   "metadata": {},
   "outputs": [],
   "source": []
  }
 ],
 "metadata": {
  "kernelspec": {
   "display_name": "bigdata",
   "language": "python",
   "name": "python3"
  },
  "language_info": {
   "codemirror_mode": {
    "name": "ipython",
    "version": 3
   },
   "file_extension": ".py",
   "mimetype": "text/x-python",
   "name": "python",
   "nbconvert_exporter": "python",
   "pygments_lexer": "ipython3",
   "version": "3.11.0"
  }
 },
 "nbformat": 4,
 "nbformat_minor": 2
}
